{
 "cells": [
  {
   "cell_type": "code",
   "execution_count": null,
   "id": "67e321cc",
   "metadata": {},
   "outputs": [],
   "source": [
    "#AND:\n",
    "#Returns `True` if both statement1 and statement2 are `True`. Otherwise, returns `False`.\n",
    "\n",
    "statement1 and statement2 \n",
    "\n",
    "marks = 90\n",
    "attendance_percentage = 87\n",
    "if marks >= 80 and attendance_percentage >= 85:\n",
    "    print(\"qualify for honors\")\n",
    "else:\n",
    "    print(\"Not qualified for honors\")\n",
    "# Output = qualify for honors"
   ]
  },
  {
   "cell_type": "code",
   "execution_count": null,
   "id": "33438132",
   "metadata": {},
   "outputs": [],
   "source": [
    "# Class Definition:\n",
    "\n",
    "#Defines a blueprint for creating objects and defining their attributes and behaviors.\n",
    "\n",
    "class ClassName: # Class attributes and methods \n",
    "\n",
    "class Person: \n",
    "    def __init__(self, name, age): \n",
    "        self.name = name \n",
    "        self.age = age"
   ]
  },
  {
   "cell_type": "code",
   "execution_count": null,
   "id": "bf76d552",
   "metadata": {},
   "outputs": [],
   "source": [
    "# Define Function:\n",
    "\n",
    "#A `function` is a reusable block of code that performs a specific task or set of tasks when called.\n",
    "\n",
    "def function_name(parameters): # Function body \n",
    "    \n",
    "def greet(name): print(\"Hello,\", name)"
   ]
  },
  {
   "cell_type": "code",
   "execution_count": null,
   "id": "0f1f3d17",
   "metadata": {},
   "outputs": [],
   "source": [
    "#Equal(==)\n",
    "\n",
    "#Checks if two values are equal.\n",
    "\n",
    "variable1 == variable2 \n",
    "\n",
    "5 == 5 \n",
    "\n",
    "age = 25 age == 30 "
   ]
  },
  {
   "cell_type": "code",
   "execution_count": null,
   "id": "31376f5e",
   "metadata": {},
   "outputs": [],
   "source": [
    "#For Loop\n",
    "\n",
    "#A `for` loop repeatedly executes a block of code for a specified number of iterations or over a sequence of elements (list, range, string, etc.).\n",
    "\n",
    "#for variable in sequence: # Code to repeat \n",
    "\n",
    "for num in range(1, 10): \n",
    "    print(num) \n",
    "    \n",
    "fruits = [\"apple\", \"banana\", \"orange\", \"grape\", \"kiwi\"] \n",
    "for fruit in fruits:\n",
    "    print(fruit)"
   ]
  },
  {
   "cell_type": "code",
   "execution_count": null,
   "id": "e838c094",
   "metadata": {},
   "outputs": [],
   "source": [
    "#Function Call\n",
    "\n",
    "#A function call is the act of executing the code within the function using the provided arguments.\n",
    "\n",
    "#function_name(arguments) \n",
    "\n",
    "greet(\"Alice\")"
   ]
  },
  {
   "cell_type": "code",
   "execution_count": null,
   "id": "2d0dec6f",
   "metadata": {},
   "outputs": [],
   "source": [
    "#If Statement\n",
    "\n",
    "#Executes code block `if` the condition is `True`.\n",
    "\n",
    "if condition: #code block for if statement\n",
    "    \n",
    "if temperature > 30: \n",
    "print(\"It's a hot day!\")"
   ]
  },
  {
   "cell_type": "code",
   "execution_count": null,
   "id": "e2031791",
   "metadata": {},
   "outputs": [],
   "source": [
    "#If-Elif-Else\n",
    "\n",
    "#\tExecutes the first code block if condition1 is `True`, otherwise checks condition2, and so on. If no condition is `True`, the else block is executed.\n",
    "\n",
    "#if condition1:\n",
    "# Code if condition1 is True\n",
    "elif condition2:\n",
    "# Code if condition2 is True\n",
    "else:\n",
    "# Code if no condition is True\n",
    "\n",
    "score = 85  # Example score\n",
    "if score >= 90:\n",
    "    print(\"You got an A!\")\n",
    "elif score >= 80:\n",
    "    print(\"You got a B.\")\n",
    "else:\n",
    "    print(\"You need to work harder.\")\n",
    "# Output = You got a B."
   ]
  },
  {
   "cell_type": "code",
   "execution_count": null,
   "id": "6927bd02",
   "metadata": {},
   "outputs": [],
   "source": [
    "# If-Else Statement\n",
    "\n",
    "#Executes the first code block if the condition is `True`, otherwise the second block.\n",
    "\n",
    "if condition: # Code, if condition is True \n",
    "else: # Code, if condition is False \n",
    "    \n",
    "if age >= 18:\n",
    "    print(\"You're an adult.\")\n",
    "else:\n",
    "    print(\"You're not an adult yet.\")"
   ]
  },
  {
   "cell_type": "code",
   "execution_count": null,
   "id": "1d048ef7",
   "metadata": {},
   "outputs": [],
   "source": [
    "#Loop Controls\n",
    "\n",
    "#`break` exits the loop prematurely. `continue` skips the rest of the current iteration and moves to the next iteration.\n",
    "\n",
    "for: # Code to repeat \n",
    "    if # boolean statement\n",
    "        break \n",
    "for: # Code to repeat  \n",
    "    if # boolean statement\n",
    "        continue\n",
    "        \n",
    "for num in range(1, 6):\n",
    "    if num == 3:\n",
    "        break\n",
    "    print(num)\n",
    "    \n",
    "for num in range(1, 6):\n",
    "    if num == 3:\n",
    "        continue\n",
    "    print(num)\n",
    "    "
   ]
  },
  {
   "cell_type": "code",
   "execution_count": null,
   "id": "d696044f",
   "metadata": {},
   "outputs": [],
   "source": [
    "# NOT\n",
    "#Returns `True` if variable is `False`, and vice versa.\n",
    "\n",
    "!variable \n",
    "!isLocked "
   ]
  },
  {
   "cell_type": "code",
   "execution_count": null,
   "id": "23219599",
   "metadata": {},
   "outputs": [],
   "source": [
    "#Object Creation\n",
    "\n",
    "#Creates an instance of a class (object) using the class constructor.\n",
    "\n",
    "object_name = ClassName(arguments) \n",
    "\n",
    "person1 = Person(\"Alice\", 25)"
   ]
  },
  {
   "cell_type": "code",
   "execution_count": null,
   "id": "45d16c59",
   "metadata": {},
   "outputs": [],
   "source": [
    "#OR\n",
    "#Returns `True` if either statement1 or statement2 (or both) are `True`. Otherwise, returns `False`.\n",
    "#statement1 || statement2 \n",
    "\n",
    "statement1 || statement2 \n",
    "\"Farewell Party Invitation\" \n",
    "Grade = 12 grade == 11 or grade == 12 "
   ]
  },
  {
   "cell_type": "code",
   "execution_count": null,
   "id": "a2e81c20",
   "metadata": {},
   "outputs": [],
   "source": [
    "#range()\n",
    "#Generates a sequence of numbers within a specified range.\n",
    "\n",
    "range(stop) \n",
    "range(start, stop) \n",
    "range(start, stop, step)\n",
    "\n",
    "range(5) #generates a sequence of integers from 0 to 4. \n",
    "range(2, 10) #generates a sequence of integers from 2 to 9. \n",
    "range(1, 11, 2) #generates odd integers from 1 to 9.\n"
   ]
  },
  {
   "cell_type": "code",
   "execution_count": null,
   "id": "13bd20b1",
   "metadata": {},
   "outputs": [],
   "source": [
    "#Return Statement\n",
    "\n",
    "#Return` is a keyword used to send a value back from a function to its caller.\n",
    "\n",
    "return value \n",
    "\n",
    "def add(a, b): return a + b \n",
    "result = add(3, 5)"
   ]
  },
  {
   "cell_type": "code",
   "execution_count": null,
   "id": "94a40f4c",
   "metadata": {},
   "outputs": [],
   "source": [
    "#Try-Except Block\n",
    "\n",
    "#Tries to execute the code in the try block. If an exception of the specified type occurs, the code in the except block is executed.\n",
    "\n",
    "try: # Code that might raise an exception except \n",
    "ExceptionType: # Code to handle the exception \n",
    "    \n",
    "try: \n",
    "    num = int(input(\"Enter a number: \")) \n",
    "except ValueError: \n",
    "    print(\"Invalid input. Please enter a valid number.\")"
   ]
  },
  {
   "cell_type": "code",
   "execution_count": null,
   "id": "2659b4f9",
   "metadata": {},
   "outputs": [],
   "source": [
    "#Try-Except with Else Block\n",
    "\n",
    "#Code in the `else` block is executed if no exception occurs in the try block.\n",
    "\n",
    "try: # Code that might raise an exception except \n",
    "ExceptionType: # Code to handle the exception \n",
    "else: # Code to execute if no exception occurs \n",
    "    \n",
    "try: \n",
    "    num = int(input(\"Enter a number: \")) \n",
    "except ValueError: \n",
    "    print(\"Invalid input. Please enter a valid number\") \n",
    "else: \n",
    "    print(\"You entered:\", num)"
   ]
  },
  {
   "cell_type": "code",
   "execution_count": null,
   "id": "4ce20164",
   "metadata": {},
   "outputs": [],
   "source": [
    "#Try-Except with Finally Block\n",
    "\n",
    "#Code in the `finally` block always executes, regardless of whether an exception occurred.\n",
    "\n",
    "try: # Code that might raise an exception except \n",
    "ExceptionType: # Code to handle the exception \n",
    "finally: # Code that always executes\n",
    "    \n",
    "try: \n",
    "    file = open(\"data.txt\", \"r\") \n",
    "    data = file.read() \n",
    "except FileNotFoundError: \n",
    "    print(\"File not found.\") \n",
    "finally: \n",
    "    file.close()"
   ]
  },
  {
   "cell_type": "code",
   "execution_count": null,
   "id": "bf52562c",
   "metadata": {},
   "outputs": [],
   "source": [
    "#While Loop\n",
    "\n",
    "#A `while` loop repeatedly executes a block of code as long as a specified condition remains `True`.\n",
    "\n",
    "while condition: # Code to repeat \n",
    "    \n",
    "count = 0 while count < 5: \n",
    "    print(count) count += 1"
   ]
  }
 ],
 "metadata": {
  "kernelspec": {
   "display_name": "Python 3 (ipykernel)",
   "language": "python",
   "name": "python3"
  },
  "language_info": {
   "codemirror_mode": {
    "name": "ipython",
    "version": 3
   },
   "file_extension": ".py",
   "mimetype": "text/x-python",
   "name": "python",
   "nbconvert_exporter": "python",
   "pygments_lexer": "ipython3",
   "version": "3.11.5"
  }
 },
 "nbformat": 4,
 "nbformat_minor": 5
}
